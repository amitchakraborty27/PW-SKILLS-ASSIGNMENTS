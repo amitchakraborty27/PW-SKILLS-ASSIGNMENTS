{
 "cells": [
  {
   "cell_type": "markdown",
   "id": "5d5b1d9b",
   "metadata": {},
   "source": [
    "# TOPIC: Python Basics Variable"
   ]
  },
  {
   "cell_type": "code",
   "execution_count": 2,
   "id": "64fbb26d",
   "metadata": {},
   "outputs": [
    {
     "name": "stdout",
     "output_type": "stream",
     "text": [
      "Before Swapping a: 10\n",
      "Before Swapping b: 20\n",
      "After Swapping a : 20\n",
      "After Swapping b : 10\n"
     ]
    }
   ],
   "source": [
    "#Answer 1:\n",
    "\n",
    "a=10\n",
    "b=20\n",
    "#Before Swapping printing a and b\n",
    "print(\"Before Swapping a:\",a)\n",
    "print(\"Before Swapping b:\",b)\n",
    "#swapping a and b\n",
    "a,b=b,a \n",
    "#After Swapping printing a and b \n",
    "print(\"After Swapping a :\",a)\n",
    "print(\"After Swapping b :\",b)"
   ]
  },
  {
   "cell_type": "code",
   "execution_count": 3,
   "id": "c5be5d9e",
   "metadata": {},
   "outputs": [
    {
     "name": "stdout",
     "output_type": "stream",
     "text": [
      "10\n",
      "5\n",
      "Area of Triangle: 25\n"
     ]
    }
   ],
   "source": [
    "#Answer2:\n",
    "\n",
    "#taking user input\n",
    "l=int(input())\n",
    "b=int(input())\n",
    "\n",
    "Area_of_Triangle=(l*b)//2\n",
    "print(\"Area of Triangle:\",Area_of_Triangle)"
   ]
  },
  {
   "cell_type": "code",
   "execution_count": 4,
   "id": "54bb9cd7",
   "metadata": {},
   "outputs": [
    {
     "name": "stdout",
     "output_type": "stream",
     "text": [
      "65\n",
      "Celsius (°C): 65 ---> Fahrenheit (°F): 149\n"
     ]
    }
   ],
   "source": [
    "#Answer3:\n",
    "c=int(input())\n",
    "# using Temperature in degrees Fahrenheit (°F) = (Temperature in degrees Celsius (°C) * 9/5) + 32\n",
    "\n",
    "f=((c * 9)//5)+32\n",
    "\n",
    "print(\"Celsius (°C):\",c,\"--->\",\"Fahrenheit (°F):\",f)"
   ]
  },
  {
   "cell_type": "markdown",
   "id": "754441f0",
   "metadata": {},
   "source": [
    "# TOPIC: String Based Questions"
   ]
  },
  {
   "cell_type": "code",
   "execution_count": 7,
   "id": "5163f60f",
   "metadata": {},
   "outputs": [
    {
     "name": "stdout",
     "output_type": "stream",
     "text": [
      "Enter The string:Amit\n",
      "Length of Input String is 4\n"
     ]
    }
   ],
   "source": [
    "#Answer 1:\n",
    "st=input(\"Enter The string:\") # taking string input from user\n",
    "print(\"Length of Input String is\",len(st)) #printing length"
   ]
  },
  {
   "cell_type": "code",
   "execution_count": 9,
   "id": "5a4949c6",
   "metadata": {},
   "outputs": [
    {
     "name": "stdout",
     "output_type": "stream",
     "text": [
      "Enter The string:AmitKumar\n",
      "# of vowels in Input String is 4\n"
     ]
    }
   ],
   "source": [
    "#Answer 2:\n",
    "st=input(\"Enter The string:\") # taking string input from user\n",
    "st=st.lower()\n",
    "count=0\n",
    "for char in st:\n",
    "    if char in ('a, e, i, o, u'):\n",
    "        count+=1\n",
    "print(\"# of vowels in Input String is\",count) "
   ]
  },
  {
   "cell_type": "code",
   "execution_count": 11,
   "id": "761aacf1",
   "metadata": {},
   "outputs": [
    {
     "name": "stdout",
     "output_type": "stream",
     "text": [
      "Enter The string:AMIT\n",
      "Reverse of Input String is TIMA\n"
     ]
    }
   ],
   "source": [
    "#Answer 3:\n",
    "st=input(\"Enter The string:\") # taking string input from user\n",
    "print(\"Reverse of Input String is\",st[::-1]) #printing reverse"
   ]
  },
  {
   "cell_type": "code",
   "execution_count": 13,
   "id": "0f68ebf6",
   "metadata": {},
   "outputs": [
    {
     "name": "stdout",
     "output_type": "stream",
     "text": [
      "Enter The string:AMIT\n",
      "Not Palindrome\n"
     ]
    }
   ],
   "source": [
    "#Answer 4:\n",
    "st=input(\"Enter The string:\") # taking string input from user\n",
    "rev=st[::-1]\n",
    "if st==rev:\n",
    "    print(\"Palindrome\")\n",
    "else:\n",
    "    print(\"Not Palindrome\")"
   ]
  },
  {
   "cell_type": "code",
   "execution_count": 15,
   "id": "2626f6e1",
   "metadata": {},
   "outputs": [
    {
     "name": "stdout",
     "output_type": "stream",
     "text": [
      "Enter The string:Amit Kumar Chakraborty PW SKills\n",
      "Input string without space:: AmitKumarChakrabortyPWSKills\n"
     ]
    }
   ],
   "source": [
    "#Answer 5:\n",
    "st=input(\"Enter The string:\") # taking string input from user\n",
    "c=''\n",
    "for i in st:\n",
    "    if i!=\" \":\n",
    "        c+=i\n",
    "print(\"Input string without space::\",c)"
   ]
  },
  {
   "cell_type": "code",
   "execution_count": null,
   "id": "d5360861",
   "metadata": {},
   "outputs": [],
   "source": []
  }
 ],
 "metadata": {
  "kernelspec": {
   "display_name": "Python 3 (ipykernel)",
   "language": "python",
   "name": "python3"
  },
  "language_info": {
   "codemirror_mode": {
    "name": "ipython",
    "version": 3
   },
   "file_extension": ".py",
   "mimetype": "text/x-python",
   "name": "python",
   "nbconvert_exporter": "python",
   "pygments_lexer": "ipython3",
   "version": "3.9.12"
  }
 },
 "nbformat": 4,
 "nbformat_minor": 5
}
