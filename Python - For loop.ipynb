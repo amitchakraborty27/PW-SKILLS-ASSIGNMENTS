{
 "cells": [
  {
   "cell_type": "code",
   "execution_count": 1,
   "id": "bd7bc504",
   "metadata": {},
   "outputs": [
    {
     "name": "stdout",
     "output_type": "stream",
     "text": [
      "1 2 3 4 5 6 7 8 9 10 "
     ]
    }
   ],
   "source": [
    "#1.\n",
    "for i in range(1,11):\n",
    "    print(i,end=\" \")"
   ]
  },
  {
   "cell_type": "code",
   "execution_count": 2,
   "id": "5a59f0da",
   "metadata": {},
   "outputs": [
    {
     "name": "stdout",
     "output_type": "stream",
     "text": [
      "22\n"
     ]
    }
   ],
   "source": [
    "#2.\n",
    "li=[2,3,4,5,7,1]\n",
    "sum=0\n",
    "\n",
    "for i in li:\n",
    "    sum+=i\n",
    "print(sum)"
   ]
  },
  {
   "cell_type": "code",
   "execution_count": 13,
   "id": "d6a4c25c",
   "metadata": {},
   "outputs": [
    {
     "name": "stdout",
     "output_type": "stream",
     "text": [
      "AKIHTUJ\n"
     ]
    }
   ],
   "source": [
    "#3.\n",
    "s=\"JUTHIKA\"\n",
    "c=''\n",
    "for i in s[::-1]:\n",
    "    c+=i\n",
    "print(c)"
   ]
  },
  {
   "cell_type": "code",
   "execution_count": 7,
   "id": "e0a26a46",
   "metadata": {},
   "outputs": [
    {
     "data": {
      "text/plain": [
       "120"
      ]
     },
     "execution_count": 7,
     "metadata": {},
     "output_type": "execute_result"
    }
   ],
   "source": [
    "#4.\n",
    "\n",
    "def factorial(n):\n",
    "    fact=1\n",
    "    for i in range(1,n+1):\n",
    "        fact*=i\n",
    "    return fact\n",
    "\n",
    "factorial(5)"
   ]
  },
  {
   "cell_type": "code",
   "execution_count": 12,
   "id": "21ed468e",
   "metadata": {},
   "outputs": [
    {
     "name": "stdout",
     "output_type": "stream",
     "text": [
      "10\n",
      "10 * 1 = 10\n",
      "10 * 2 = 20\n",
      "10 * 3 = 30\n",
      "10 * 4 = 40\n",
      "10 * 5 = 50\n",
      "10 * 6 = 60\n",
      "10 * 7 = 70\n",
      "10 * 8 = 80\n",
      "10 * 9 = 90\n",
      "10 * 10 = 100\n"
     ]
    }
   ],
   "source": [
    "#5.\n",
    "n=int(input())\n",
    "\n",
    "for i in range(1,11):\n",
    "    print(n,\"*\",i,\"=\",n*i)"
   ]
  },
  {
   "cell_type": "code",
   "execution_count": 8,
   "id": "cb36e025",
   "metadata": {},
   "outputs": [
    {
     "name": "stdout",
     "output_type": "stream",
     "text": [
      "Even Count: 5 And Odd Count: 5\n"
     ]
    }
   ],
   "source": [
    "#6\n",
    "i=[1,2,3,4,5,6,7,8,9,10]\n",
    "even,odd=0,0\n",
    "for i in li:\n",
    "    if i%2==0:\n",
    "        even+=1\n",
    "    else:\n",
    "        odd+=1\n",
    "        \n",
    "print(\"Even Count:\",even,\"And Odd Count:\",odd)"
   ]
  },
  {
   "cell_type": "code",
   "execution_count": 11,
   "id": "392fa41e",
   "metadata": {},
   "outputs": [
    {
     "name": "stdout",
     "output_type": "stream",
     "text": [
      "1\n",
      "4\n",
      "9\n",
      "16\n",
      "25\n"
     ]
    }
   ],
   "source": [
    "#7.\n",
    "for i in range(1,6):\n",
    "    print(i**2)"
   ]
  },
  {
   "cell_type": "code",
   "execution_count": 15,
   "id": "6c7cdaca",
   "metadata": {},
   "outputs": [
    {
     "name": "stdout",
     "output_type": "stream",
     "text": [
      "10\n"
     ]
    }
   ],
   "source": [
    "#8.\n",
    "c=\"Arjun Reddy\"\n",
    "l=0\n",
    "for i in c:\n",
    "    if i==\" \": # here we are ignoring the blank spaces in name, it we remove this this length will be 11\n",
    "        continue\n",
    "    l+=1\n",
    "print(l)"
   ]
  },
  {
   "cell_type": "code",
   "execution_count": 19,
   "id": "8e929092",
   "metadata": {},
   "outputs": [
    {
     "name": "stdout",
     "output_type": "stream",
     "text": [
      "Average: 6.0\n"
     ]
    }
   ],
   "source": [
    "#9.\n",
    "li=[2,3,4,5,6,7,8,9,10]\n",
    "\n",
    "n=len(li)\n",
    "sum=0\n",
    "for i in li:\n",
    "    sum+=i\n",
    "print(\"Average:\",sum/n)"
   ]
  },
  {
   "cell_type": "code",
   "execution_count": 22,
   "id": "ea1d52ca",
   "metadata": {},
   "outputs": [
    {
     "name": "stdout",
     "output_type": "stream",
     "text": [
      "6\n",
      "[0, 1, 1, 2, 3, 5]\n"
     ]
    }
   ],
   "source": [
    "#10.\n",
    "li=[]\n",
    "li.append(0)\n",
    "li.append(1)\n",
    "n=int(input())\n",
    "\n",
    "for i in range(n+1):\n",
    "    li.append(li[-1]+li[-2])\n",
    "print(li[:n])\n",
    "    \n"
   ]
  },
  {
   "cell_type": "code",
   "execution_count": 23,
   "id": "07347185",
   "metadata": {},
   "outputs": [
    {
     "name": "stdout",
     "output_type": "stream",
     "text": [
      "The list does not contain duplicates.\n"
     ]
    }
   ],
   "source": [
    "#11.\n",
    "def has_duplicates(input_list):\n",
    "    for i in range(len(input_list)):\n",
    "        for j in range(i + 1, len(input_list)):\n",
    "            if input_list[i] == input_list[j]:\n",
    "                return True  # Found a duplicate\n",
    "    return False  # No duplicates found\n",
    "\n",
    "my_list = [1, 2, 3, 4, 5, 6]\n",
    "if has_duplicates(my_list):\n",
    "    print(\"The list contains duplicates.\")\n",
    "else:\n",
    "    print(\"The list does not contain duplicates.\")\n"
   ]
  },
  {
   "cell_type": "code",
   "execution_count": 1,
   "id": "c5044c05",
   "metadata": {},
   "outputs": [
    {
     "name": "stdout",
     "output_type": "stream",
     "text": [
      "Enter the start of the range: 3\n",
      "Enter the end of the range: 9\n",
      "Prime numbers in the range 3 to 9:\n",
      "3\n",
      "5\n",
      "7\n"
     ]
    }
   ],
   "source": [
    "#12.\n",
    "def is_prime(num):\n",
    "    if num <= 1:\n",
    "        return False\n",
    "    elif num <= 3:\n",
    "        return True\n",
    "    elif num % 2 == 0 or num % 3 == 0:\n",
    "        return False\n",
    "    i = 5\n",
    "    while i * i <= num:\n",
    "        if num % i == 0 or num % (i + 2) == 0:\n",
    "            return False\n",
    "        i += 6\n",
    "    return True\n",
    "\n",
    "def print_primes_in_range(start, end):\n",
    "    for num in range(start, end + 1):\n",
    "        if is_prime(num):\n",
    "            print(num)\n",
    "\n",
    "# Input range\n",
    "start = int(input(\"Enter the start of the range: \"))\n",
    "end = int(input(\"Enter the end of the range: \"))\n",
    "\n",
    "print(\"Prime numbers in the range {} to {}:\".format(start, end))\n",
    "print_primes_in_range(start, end)\n"
   ]
  },
  {
   "cell_type": "code",
   "execution_count": 2,
   "id": "9203e202",
   "metadata": {},
   "outputs": [
    {
     "name": "stdout",
     "output_type": "stream",
     "text": [
      "Enter a string: Amita\n",
      "Number of vowels in the string: 3\n"
     ]
    }
   ],
   "source": [
    "#13.\n",
    "def count_vowels(input_string):\n",
    "    # Initialize a variable to store the count of vowels\n",
    "    vowel_count = 0\n",
    "\n",
    "    # Define a string containing all vowels (both lowercase and uppercase)\n",
    "    vowels = \"aeiouAEIOU\"\n",
    "\n",
    "    # Iterate through each character in the input string\n",
    "    for char in input_string:\n",
    "        # Check if the character is a vowel\n",
    "        if char in vowels:\n",
    "            vowel_count += 1\n",
    "\n",
    "    return vowel_count\n",
    "\n",
    "# Input string from the user\n",
    "input_string = input(\"Enter a string: \")\n",
    "\n",
    "# Call the function to count vowels and print the result\n",
    "vowel_count = count_vowels(input_string)\n",
    "print(\"Number of vowels in the string: {}\".format(vowel_count))\n"
   ]
  },
  {
   "cell_type": "code",
   "execution_count": 3,
   "id": "be04ded6",
   "metadata": {},
   "outputs": [
    {
     "name": "stdout",
     "output_type": "stream",
     "text": [
      "The maximum element in the 2D list is: 89\n"
     ]
    }
   ],
   "source": [
    "#14.\n",
    "def find_max_element(matrix):\n",
    "    # Initialize a variable to store the maximum element, initially set to negative infinity\n",
    "    max_element = float('-inf')\n",
    "\n",
    "    # Iterate through each row of the matrix\n",
    "    for row in matrix:\n",
    "        # Iterate through each element in the row\n",
    "        for element in row:\n",
    "            # Check if the current element is greater than the current maximum\n",
    "            if element > max_element:\n",
    "                max_element = element\n",
    "\n",
    "    return max_element\n",
    "\n",
    "# Example 2D list (you can replace this with your own)\n",
    "matrix = [\n",
    "    [12, 45, 67],\n",
    "    [23, 56, 89],\n",
    "    [9, 8, 17]\n",
    "]\n",
    "\n",
    "# Call the function to find the maximum element and print the result\n",
    "max_value = find_max_element(matrix)\n",
    "print(\"The maximum element in the 2D list is:\", max_value)\n"
   ]
  },
  {
   "cell_type": "code",
   "execution_count": 4,
   "id": "14497d86",
   "metadata": {},
   "outputs": [
    {
     "name": "stdout",
     "output_type": "stream",
     "text": [
      "List after removing all occurrences of 2: [1, 3, 4, 5]\n"
     ]
    }
   ],
   "source": [
    "#15.\n",
    "def remove_all_occurrences(lst, element):\n",
    "    # Create a new list with elements other than the specified element\n",
    "    new_lst = [item for item in lst if item != element]\n",
    "    return new_lst\n",
    "\n",
    "# Example list (you can replace this with your own)\n",
    "my_list = [1, 2, 3, 2, 4, 5, 2]\n",
    "element_to_remove = 2\n",
    "\n",
    "# Call the function to remove all occurrences of the element\n",
    "result_list = remove_all_occurrences(my_list, element_to_remove)\n",
    "print(\"List after removing all occurrences of {}: {}\".format(element_to_remove, result_list))\n"
   ]
  },
  {
   "cell_type": "code",
   "execution_count": 9,
   "id": "bbd47ebe",
   "metadata": {},
   "outputs": [
    {
     "name": "stdout",
     "output_type": "stream",
     "text": [
      "Multiplication table for 1\n",
      "1 x 1 = 1\n",
      "1 x 2 = 2\n",
      "1 x 3 = 3\n",
      "1 x 4 = 4\n",
      "1 x 5 = 5\n",
      "1 x 6 = 6\n",
      "1 x 7 = 7\n",
      "1 x 8 = 8\n",
      "1 x 9 = 9\n",
      "1 x 10 = 10\n",
      "\n",
      "Multiplication table for 2\n",
      "2 x 1 = 2\n",
      "2 x 2 = 4\n",
      "2 x 3 = 6\n",
      "2 x 4 = 8\n",
      "2 x 5 = 10\n",
      "2 x 6 = 12\n",
      "2 x 7 = 14\n",
      "2 x 8 = 16\n",
      "2 x 9 = 18\n",
      "2 x 10 = 20\n",
      "\n",
      "Multiplication table for 3\n",
      "3 x 1 = 3\n",
      "3 x 2 = 6\n",
      "3 x 3 = 9\n",
      "3 x 4 = 12\n",
      "3 x 5 = 15\n",
      "3 x 6 = 18\n",
      "3 x 7 = 21\n",
      "3 x 8 = 24\n",
      "3 x 9 = 27\n",
      "3 x 10 = 30\n",
      "\n",
      "Multiplication table for 4\n",
      "4 x 1 = 4\n",
      "4 x 2 = 8\n",
      "4 x 3 = 12\n",
      "4 x 4 = 16\n",
      "4 x 5 = 20\n",
      "4 x 6 = 24\n",
      "4 x 7 = 28\n",
      "4 x 8 = 32\n",
      "4 x 9 = 36\n",
      "4 x 10 = 40\n",
      "\n",
      "Multiplication table for 5\n",
      "5 x 1 = 5\n",
      "5 x 2 = 10\n",
      "5 x 3 = 15\n",
      "5 x 4 = 20\n",
      "5 x 5 = 25\n",
      "5 x 6 = 30\n",
      "5 x 7 = 35\n",
      "5 x 8 = 40\n",
      "5 x 9 = 45\n",
      "5 x 10 = 50\n",
      "\n"
     ]
    }
   ],
   "source": [
    "#16.\n",
    "# Define the range for the multiplication table\n",
    "start = 1\n",
    "end = 5\n",
    "\n",
    "# Loop through each number in the range\n",
    "for i in range(start, end + 1):\n",
    "    print(\"Multiplication table for\", i)\n",
    "    \n",
    "    # Generate the multiplication table for the current number\n",
    "    for j in range(1, 11):  # Multiplying by numbers 1 to 10\n",
    "        product = i * j\n",
    "        print(f\"{i} x {j} = {product}\")\n",
    "    \n",
    "    print()  # Add an empty line for separation between tables\n"
   ]
  },
  {
   "cell_type": "code",
   "execution_count": 5,
   "id": "d01ba944",
   "metadata": {},
   "outputs": [
    {
     "name": "stdout",
     "output_type": "stream",
     "text": [
      "Celsius Temperatures: [0.0, 20.0, 37.77777777777778, 100.0]\n"
     ]
    }
   ],
   "source": [
    "#17.\n",
    "def fahrenheit_to_celsius(fahrenheit_temperatures):\n",
    "    celsius_temperatures = []\n",
    "    for temp_f in fahrenheit_temperatures:\n",
    "        temp_c = (temp_f - 32) * 5/9\n",
    "        celsius_temperatures.append(temp_c)\n",
    "    return celsius_temperatures\n",
    "\n",
    "# Example list of Fahrenheit temperatures (you can replace this with your own)\n",
    "fahrenheit_temperatures = [32, 68, 100, 212]\n",
    "\n",
    "# Call the function to convert Fahrenheit temperatures to Celsius\n",
    "celsius_temperatures = fahrenheit_to_celsius(fahrenheit_temperatures)\n",
    "print(\"Celsius Temperatures:\", celsius_temperatures)\n"
   ]
  },
  {
   "cell_type": "code",
   "execution_count": 6,
   "id": "91a5389b",
   "metadata": {},
   "outputs": [
    {
     "name": "stdout",
     "output_type": "stream",
     "text": [
      "Common Elements: [3, 4, 5]\n"
     ]
    }
   ],
   "source": [
    "#18.\n",
    "def find_common_elements(list1, list2):\n",
    "    common_elements = []\n",
    "    for item1 in list1:\n",
    "        for item2 in list2:\n",
    "            if item1 == item2:\n",
    "                common_elements.append(item1)\n",
    "    return common_elements\n",
    "\n",
    "# Example lists (you can replace these with your own)\n",
    "list1 = [1, 2, 3, 4, 5]\n",
    "list2 = [3, 4, 5, 6, 7]\n",
    "\n",
    "# Call the function to find common elements\n",
    "common_elements = find_common_elements(list1, list2)\n",
    "print(\"Common Elements:\", common_elements)\n"
   ]
  },
  {
   "cell_type": "code",
   "execution_count": 7,
   "id": "095edff1",
   "metadata": {},
   "outputs": [
    {
     "name": "stdout",
     "output_type": "stream",
     "text": [
      "* \n",
      "* * \n",
      "* * * \n",
      "* * * * \n",
      "* * * * * \n"
     ]
    }
   ],
   "source": [
    "#19.\n",
    "n = 5  # You can change the value of n for a different pattern size\n",
    "\n",
    "for i in range(1, n + 1):\n",
    "    for j in range(i):\n",
    "        print(\"*\", end=\" \")\n",
    "    print()\n"
   ]
  },
  {
   "cell_type": "code",
   "execution_count": 8,
   "id": "79554964",
   "metadata": {},
   "outputs": [
    {
     "name": "stdout",
     "output_type": "stream",
     "text": [
      "Greatest Common Divisor (GCD) of 48 and 36: 12\n"
     ]
    }
   ],
   "source": [
    "#20.\n",
    "def find_gcd(a, b):\n",
    "    while b:\n",
    "        a, b = b, a % b\n",
    "    return a\n",
    "\n",
    "# Example numbers (you can replace these with your own)\n",
    "num1 = 48\n",
    "num2 = 36\n",
    "\n",
    "# Call the function to find the GCD\n",
    "gcd = find_gcd(num1, num2)\n",
    "print(\"Greatest Common Divisor (GCD) of {} and {}: {}\".format(num1, num2, gcd))\n"
   ]
  },
  {
   "cell_type": "code",
   "execution_count": 10,
   "id": "158c7916",
   "metadata": {},
   "outputs": [
    {
     "name": "stdout",
     "output_type": "stream",
     "text": [
      "Sum of digits for each number: [6, 9, 21, 9]\n"
     ]
    }
   ],
   "source": [
    "#21.\n",
    "# Example list of numbers (you can replace this with your own)\n",
    "numbers = [123, 45, 678, 9]\n",
    "\n",
    "# Calculate the sum of digits of each number using list comprehension\n",
    "digit_sums = [sum(int(digit) for digit in str(num)) for num in numbers]\n",
    "\n",
    "print(\"Sum of digits for each number:\", digit_sums)\n"
   ]
  },
  {
   "cell_type": "code",
   "execution_count": 11,
   "id": "61058c3c",
   "metadata": {},
   "outputs": [
    {
     "name": "stdout",
     "output_type": "stream",
     "text": [
      "Prime factors of 36: [1, 2, 3]\n"
     ]
    }
   ],
   "source": [
    "#22.\n",
    "def find_prime_factors(number):\n",
    "    factors = [x for x in range(1, number + 1) if number % x == 0 and all(x % i != 0 for i in range(2, x))]\n",
    "    return factors\n",
    "\n",
    "# Example number (you can replace this with your own)\n",
    "number = 36\n",
    "\n",
    "prime_factors = find_prime_factors(number)\n",
    "print(\"Prime factors of {}: {}\".format(number, prime_factors))\n"
   ]
  },
  {
   "cell_type": "code",
   "execution_count": 12,
   "id": "97ce6ce2",
   "metadata": {},
   "outputs": [
    {
     "name": "stdout",
     "output_type": "stream",
     "text": [
      "Unique elements: [1, 2, 3, 4, 5]\n"
     ]
    }
   ],
   "source": [
    "#23.\n",
    "# Example list (you can replace this with your own)\n",
    "original_list = [1, 2, 2, 3, 4, 4, 5, 5]\n",
    "\n",
    "# Use list comprehension to extract unique elements\n",
    "unique_elements = [x for i, x in enumerate(original_list) if x not in original_list[:i]]\n",
    "\n",
    "print(\"Unique elements:\", unique_elements)\n"
   ]
  },
  {
   "cell_type": "code",
   "execution_count": 13,
   "id": "ea619654",
   "metadata": {},
   "outputs": [
    {
     "name": "stdout",
     "output_type": "stream",
     "text": [
      "Palindromic numbers up to 100: [1, 2, 3, 4, 5, 6, 7, 8, 9, 11, 22, 33, 44, 55, 66, 77, 88, 99]\n"
     ]
    }
   ],
   "source": [
    "#24\n",
    "# Specify the limit\n",
    "limit = 100\n",
    "\n",
    "# Generate a list of palindromic numbers using list comprehension\n",
    "palindromic_numbers = [num for num in range(1, limit + 1) if str(num) == str(num)[::-1]]\n",
    "\n",
    "print(\"Palindromic numbers up to {}: {}\".format(limit, palindromic_numbers))\n"
   ]
  },
  {
   "cell_type": "code",
   "execution_count": 14,
   "id": "5331fdc5",
   "metadata": {},
   "outputs": [
    {
     "name": "stdout",
     "output_type": "stream",
     "text": [
      "Flattened list: [1, 2, 3, 4, 5, 6, 7, 8]\n"
     ]
    }
   ],
   "source": [
    "#25.\n",
    "# Example nested list (you can replace this with your own)\n",
    "nested_list = [[1, 2, 3], [4, 5], [6, 7, 8]]\n",
    "\n",
    "# Flatten the nested list using list comprehension\n",
    "flattened_list = [item for sublist in nested_list for item in sublist]\n",
    "\n",
    "print(\"Flattened list:\", flattened_list)\n"
   ]
  },
  {
   "cell_type": "code",
   "execution_count": 15,
   "id": "9f74f0f5",
   "metadata": {},
   "outputs": [
    {
     "name": "stdout",
     "output_type": "stream",
     "text": [
      "Sum of even numbers: 20\n",
      "Sum of odd numbers: 25\n"
     ]
    }
   ],
   "source": [
    "#26\n",
    "# Example list of numbers (you can replace this with your own)\n",
    "numbers = [1, 2, 3, 4, 5, 6, 7, 8, 9]\n",
    "\n",
    "# Use list comprehension to compute the sum of even and odd numbers separately\n",
    "even_sum = sum([num for num in numbers if num % 2 == 0])\n",
    "odd_sum = sum([num for num in numbers if num % 2 != 0])\n",
    "\n",
    "print(\"Sum of even numbers:\", even_sum)\n",
    "print(\"Sum of odd numbers:\", odd_sum)\n"
   ]
  },
  {
   "cell_type": "code",
   "execution_count": 16,
   "id": "e2932acc",
   "metadata": {},
   "outputs": [
    {
     "name": "stdout",
     "output_type": "stream",
     "text": [
      "Squares of odd numbers: [1, 9, 25, 49, 81]\n"
     ]
    }
   ],
   "source": [
    "#27.\n",
    "# Use list comprehension to generate a list of squares of odd numbers between 1 and 10\n",
    "squares_of_odd_numbers = [num ** 2 for num in range(1, 11) if num % 2 != 0]\n",
    "print(\"Squares of odd numbers:\", squares_of_odd_numbers)\n"
   ]
  },
  {
   "cell_type": "code",
   "execution_count": 17,
   "id": "dd296136",
   "metadata": {},
   "outputs": [
    {
     "name": "stdout",
     "output_type": "stream",
     "text": [
      "Combined dictionary: {'a': 1, 'b': 2, 'c': 3}\n"
     ]
    }
   ],
   "source": [
    "#28.\n",
    "# Example lists (you can replace these with your own)\n",
    "keys = [\"a\", \"b\", \"c\"]\n",
    "values = [1, 2, 3]\n",
    "\n",
    "# Use list comprehension to create a dictionary by combining the two lists\n",
    "result_dict = {key: value for key, value in zip(keys, values)}\n",
    "print(\"Combined dictionary:\", result_dict)\n"
   ]
  },
  {
   "cell_type": "code",
   "execution_count": 18,
   "id": "3f16461f",
   "metadata": {},
   "outputs": [
    {
     "name": "stdout",
     "output_type": "stream",
     "text": [
      "Vowels: ['e', 'o', 'o']\n"
     ]
    }
   ],
   "source": [
    "#29.\n",
    "# Example string (you can replace this with your own)\n",
    "input_string = \"Hello, World!\"\n",
    "\n",
    "# Use list comprehension to extract vowels from the string\n",
    "vowels = [char for char in input_string if char.lower() in 'aeiou']\n",
    "print(\"Vowels:\", vowels)\n"
   ]
  },
  {
   "cell_type": "code",
   "execution_count": 19,
   "id": "53db614f",
   "metadata": {},
   "outputs": [
    {
     "name": "stdout",
     "output_type": "stream",
     "text": [
      "Numeric strings: ['123', '456', '789', '']\n"
     ]
    }
   ],
   "source": [
    "#30.\n",
    "# Example list of strings (you can replace this with your own)\n",
    "string_list = [\"abc123\", \"456def\", \"789\", \"xyz\"]\n",
    "\n",
    "# Use list comprehension to remove non-numeric characters from each string\n",
    "numeric_strings = [''.join(char for char in string if char.isnumeric()) for string in string_list]\n",
    "print(\"Numeric strings:\", numeric_strings)\n"
   ]
  },
  {
   "cell_type": "code",
   "execution_count": 20,
   "id": "3e5623d2",
   "metadata": {},
   "outputs": [
    {
     "name": "stdout",
     "output_type": "stream",
     "text": [
      "Prime numbers up to 100 : [2, 3, 5, 7, 11, 13, 17, 19, 23, 29, 31, 37, 41, 43, 47, 53, 59, 61, 67, 71, 73, 79, 83, 89, 97]\n"
     ]
    }
   ],
   "source": [
    "#31.\n",
    "def sieve_of_eratosthenes(n):\n",
    "    sieve = [True] * (n + 1)\n",
    "    sieve[0] = sieve[1] = False\n",
    "    for current in range(2, int(n**0.5) + 1):\n",
    "        if sieve[current]:\n",
    "            for multiple in range(current * current, n + 1, current):\n",
    "                sieve[multiple] = False\n",
    "    primes = [num for num, is_prime in enumerate(sieve) if is_prime]\n",
    "    return primes\n",
    "\n",
    "# Specify the limit for generating prime numbers\n",
    "limit = 100\n",
    "\n",
    "# Use list comprehension to generate a list of prime numbers up to the specified limit\n",
    "prime_numbers = sieve_of_eratosthenes(limit)\n",
    "print(\"Prime numbers up to\", limit, \":\", prime_numbers)\n"
   ]
  },
  {
   "cell_type": "code",
   "execution_count": 21,
   "id": "6309685a",
   "metadata": {},
   "outputs": [
    {
     "name": "stdout",
     "output_type": "stream",
     "text": [
      "Pythagorean triplets up to 20 : [(3, 4, 5), (5, 12, 13), (6, 8, 10), (8, 15, 17), (9, 12, 15), (12, 16, 20)]\n"
     ]
    }
   ],
   "source": [
    "#32.\n",
    "# Specify the limit for generating Pythagorean triplets\n",
    "limit = 20\n",
    "\n",
    "# Use list comprehension to generate a list of Pythagorean triplets\n",
    "pythagorean_triplets = [(a, b, c) for a in range(1, limit + 1) for b in range(a, limit + 1)\n",
    "                        for c in range(b, limit + 1) if a**2 + b**2 == c**2]\n",
    "\n",
    "print(\"Pythagorean triplets up to\", limit, \":\", pythagorean_triplets)\n"
   ]
  },
  {
   "cell_type": "code",
   "execution_count": 22,
   "id": "4325ae43",
   "metadata": {},
   "outputs": [
    {
     "name": "stdout",
     "output_type": "stream",
     "text": [
      "All possible combinations: [(1, 'a'), (1, 'b'), (2, 'a'), (2, 'b')]\n"
     ]
    }
   ],
   "source": [
    "#33.\n",
    "# Example lists (you can replace these with your own)\n",
    "list1 = [1, 2]\n",
    "list2 = ['a', 'b']\n",
    "\n",
    "# Use list comprehension to generate all possible combinations of two lists\n",
    "combinations = [(x, y) for x in list1 for y in list2]\n",
    "print(\"All possible combinations:\", combinations)\n"
   ]
  },
  {
   "cell_type": "code",
   "execution_count": 23,
   "id": "0aa0e20e",
   "metadata": {},
   "outputs": [
    {
     "name": "stdout",
     "output_type": "stream",
     "text": [
      "Mean: 4.5\n",
      "Median: 5.0\n",
      "Mode: 6\n"
     ]
    }
   ],
   "source": [
    "#34.\n",
    "from statistics import mean, median, mode\n",
    "\n",
    "# Example list of numbers (you can replace this with your own)\n",
    "numbers = [1, 2, 3, 4, 5, 5, 6, 6, 6, 7]\n",
    "\n",
    "# Use list comprehension to calculate mean, median, and mode\n",
    "mean_value = mean(numbers)\n",
    "median_value = median(numbers)\n",
    "mode_value = mode(numbers)\n",
    "\n",
    "print(\"Mean:\", mean_value)\n",
    "print(\"Median:\", median_value)\n",
    "print(\"Mode:\", mode_value)\n"
   ]
  },
  {
   "cell_type": "code",
   "execution_count": 24,
   "id": "e2241079",
   "metadata": {},
   "outputs": [
    {
     "name": "stdout",
     "output_type": "stream",
     "text": [
      "[1]\n",
      "[1, 1]\n",
      "[1, 2, 1]\n",
      "[1, 3, 3, 1]\n",
      "[1, 4, 6, 4, 1]\n"
     ]
    }
   ],
   "source": [
    "#35.\n",
    "def generate_pascals_triangle(num_rows):\n",
    "    triangle = [[1]]\n",
    "    for _ in range(num_rows - 1):\n",
    "        prev_row = triangle[-1]\n",
    "        new_row = [1] + [prev_row[i] + prev_row[i + 1] for i in range(len(prev_row) - 1)] + [1]\n",
    "        triangle.append(new_row)\n",
    "    return triangle\n",
    "\n",
    "# Specify the number of rows for Pascal's Triangle\n",
    "num_rows = 5\n",
    "\n",
    "# Use list comprehension to generate Pascal's Triangle\n",
    "pascals_triangle = generate_pascals_triangle(num_rows)\n",
    "for row in pascals_triangle:\n",
    "    print(row)\n"
   ]
  },
  {
   "cell_type": "code",
   "execution_count": 25,
   "id": "11663615",
   "metadata": {},
   "outputs": [
    {
     "name": "stdout",
     "output_type": "stream",
     "text": [
      "Sum of digits of factorial for numbers 1 to 5: [1, 2, 6, 6, 3]\n"
     ]
    }
   ],
   "source": [
    "#36.\n",
    "def factorial(n):\n",
    "    if n == 0:\n",
    "        return 1\n",
    "    else:\n",
    "        return n * factorial(n - 1)\n",
    "\n",
    "# Calculate the sum of digits of factorial for numbers from 1 to 5 using list comprehension\n",
    "sums = [sum(int(digit) for digit in str(factorial(i))) for i in range(1, 6)]\n",
    "print(\"Sum of digits of factorial for numbers 1 to 5:\", sums)\n"
   ]
  },
  {
   "cell_type": "code",
   "execution_count": 26,
   "id": "184168ef",
   "metadata": {},
   "outputs": [
    {
     "name": "stdout",
     "output_type": "stream",
     "text": [
      "Longest word in the sentence: quick\n"
     ]
    }
   ],
   "source": [
    "#37.\n",
    "# Example sentence (you can replace this with your own)\n",
    "sentence = \"The quick brown fox jumps over the lazy dog\"\n",
    "\n",
    "# Use list comprehension to find the longest word in the sentence\n",
    "longest_word = max([word.strip('.,') for word in sentence.split()], key=len)\n",
    "print(\"Longest word in the sentence:\", longest_word)\n"
   ]
  },
  {
   "cell_type": "code",
   "execution_count": 27,
   "id": "78d3f16c",
   "metadata": {},
   "outputs": [
    {
     "name": "stdout",
     "output_type": "stream",
     "text": [
      "Strings with more than three vowels: ['openai', 'artificial intelligence']\n"
     ]
    }
   ],
   "source": [
    "#38.\n",
    "# Example list of strings (you can replace these with your own)\n",
    "string_list = [\"hello\", \"world\", \"programming\", \"openai\", \"artificial intelligence\"]\n",
    "\n",
    "# Use list comprehension to filter strings with more than three vowels\n",
    "filtered_list = [word for word in string_list if sum(1 for letter in word if letter.lower() in 'aeiou') > 3]\n",
    "print(\"Strings with more than three vowels:\", filtered_list)\n"
   ]
  },
  {
   "cell_type": "code",
   "execution_count": 28,
   "id": "b10e31f4",
   "metadata": {},
   "outputs": [
    {
     "name": "stdout",
     "output_type": "stream",
     "text": [
      "Sum of digits for numbers from 1 to 1000: [1, 2, 3, 4, 5, 6, 7, 8, 9, 1, 2, 3, 4, 5, 6, 7, 8, 9, 10, 2, 3, 4, 5, 6, 7, 8, 9, 10, 11, 3, 4, 5, 6, 7, 8, 9, 10, 11, 12, 4, 5, 6, 7, 8, 9, 10, 11, 12, 13, 5, 6, 7, 8, 9, 10, 11, 12, 13, 14, 6, 7, 8, 9, 10, 11, 12, 13, 14, 15, 7, 8, 9, 10, 11, 12, 13, 14, 15, 16, 8, 9, 10, 11, 12, 13, 14, 15, 16, 17, 9, 10, 11, 12, 13, 14, 15, 16, 17, 18, 1, 2, 3, 4, 5, 6, 7, 8, 9, 10, 2, 3, 4, 5, 6, 7, 8, 9, 10, 11, 3, 4, 5, 6, 7, 8, 9, 10, 11, 12, 4, 5, 6, 7, 8, 9, 10, 11, 12, 13, 5, 6, 7, 8, 9, 10, 11, 12, 13, 14, 6, 7, 8, 9, 10, 11, 12, 13, 14, 15, 7, 8, 9, 10, 11, 12, 13, 14, 15, 16, 8, 9, 10, 11, 12, 13, 14, 15, 16, 17, 9, 10, 11, 12, 13, 14, 15, 16, 17, 18, 10, 11, 12, 13, 14, 15, 16, 17, 18, 19, 2, 3, 4, 5, 6, 7, 8, 9, 10, 11, 3, 4, 5, 6, 7, 8, 9, 10, 11, 12, 4, 5, 6, 7, 8, 9, 10, 11, 12, 13, 5, 6, 7, 8, 9, 10, 11, 12, 13, 14, 6, 7, 8, 9, 10, 11, 12, 13, 14, 15, 7, 8, 9, 10, 11, 12, 13, 14, 15, 16, 8, 9, 10, 11, 12, 13, 14, 15, 16, 17, 9, 10, 11, 12, 13, 14, 15, 16, 17, 18, 10, 11, 12, 13, 14, 15, 16, 17, 18, 19, 11, 12, 13, 14, 15, 16, 17, 18, 19, 20, 3, 4, 5, 6, 7, 8, 9, 10, 11, 12, 4, 5, 6, 7, 8, 9, 10, 11, 12, 13, 5, 6, 7, 8, 9, 10, 11, 12, 13, 14, 6, 7, 8, 9, 10, 11, 12, 13, 14, 15, 7, 8, 9, 10, 11, 12, 13, 14, 15, 16, 8, 9, 10, 11, 12, 13, 14, 15, 16, 17, 9, 10, 11, 12, 13, 14, 15, 16, 17, 18, 10, 11, 12, 13, 14, 15, 16, 17, 18, 19, 11, 12, 13, 14, 15, 16, 17, 18, 19, 20, 12, 13, 14, 15, 16, 17, 18, 19, 20, 21, 4, 5, 6, 7, 8, 9, 10, 11, 12, 13, 5, 6, 7, 8, 9, 10, 11, 12, 13, 14, 6, 7, 8, 9, 10, 11, 12, 13, 14, 15, 7, 8, 9, 10, 11, 12, 13, 14, 15, 16, 8, 9, 10, 11, 12, 13, 14, 15, 16, 17, 9, 10, 11, 12, 13, 14, 15, 16, 17, 18, 10, 11, 12, 13, 14, 15, 16, 17, 18, 19, 11, 12, 13, 14, 15, 16, 17, 18, 19, 20, 12, 13, 14, 15, 16, 17, 18, 19, 20, 21, 13, 14, 15, 16, 17, 18, 19, 20, 21, 22, 5, 6, 7, 8, 9, 10, 11, 12, 13, 14, 6, 7, 8, 9, 10, 11, 12, 13, 14, 15, 7, 8, 9, 10, 11, 12, 13, 14, 15, 16, 8, 9, 10, 11, 12, 13, 14, 15, 16, 17, 9, 10, 11, 12, 13, 14, 15, 16, 17, 18, 10, 11, 12, 13, 14, 15, 16, 17, 18, 19, 11, 12, 13, 14, 15, 16, 17, 18, 19, 20, 12, 13, 14, 15, 16, 17, 18, 19, 20, 21, 13, 14, 15, 16, 17, 18, 19, 20, 21, 22, 14, 15, 16, 17, 18, 19, 20, 21, 22, 23, 6, 7, 8, 9, 10, 11, 12, 13, 14, 15, 7, 8, 9, 10, 11, 12, 13, 14, 15, 16, 8, 9, 10, 11, 12, 13, 14, 15, 16, 17, 9, 10, 11, 12, 13, 14, 15, 16, 17, 18, 10, 11, 12, 13, 14, 15, 16, 17, 18, 19, 11, 12, 13, 14, 15, 16, 17, 18, 19, 20, 12, 13, 14, 15, 16, 17, 18, 19, 20, 21, 13, 14, 15, 16, 17, 18, 19, 20, 21, 22, 14, 15, 16, 17, 18, 19, 20, 21, 22, 23, 15, 16, 17, 18, 19, 20, 21, 22, 23, 24, 7, 8, 9, 10, 11, 12, 13, 14, 15, 16, 8, 9, 10, 11, 12, 13, 14, 15, 16, 17, 9, 10, 11, 12, 13, 14, 15, 16, 17, 18, 10, 11, 12, 13, 14, 15, 16, 17, 18, 19, 11, 12, 13, 14, 15, 16, 17, 18, 19, 20, 12, 13, 14, 15, 16, 17, 18, 19, 20, 21, 13, 14, 15, 16, 17, 18, 19, 20, 21, 22, 14, 15, 16, 17, 18, 19, 20, 21, 22, 23, 15, 16, 17, 18, 19, 20, 21, 22, 23, 24, 16, 17, 18, 19, 20, 21, 22, 23, 24, 25, 8, 9, 10, 11, 12, 13, 14, 15, 16, 17, 9, 10, 11, 12, 13, 14, 15, 16, 17, 18, 10, 11, 12, 13, 14, 15, 16, 17, 18, 19, 11, 12, 13, 14, 15, 16, 17, 18, 19, 20, 12, 13, 14, 15, 16, 17, 18, 19, 20, 21, 13, 14, 15, 16, 17, 18, 19, 20, 21, 22, 14, 15, 16, 17, 18, 19, 20, 21, 22, 23, 15, 16, 17, 18, 19, 20, 21, 22, 23, 24, 16, 17, 18, 19, 20, 21, 22, 23, 24, 25, 17, 18, 19, 20, 21, 22, 23, 24, 25, 26, 9, 10, 11, 12, 13, 14, 15, 16, 17, 18, 10, 11, 12, 13, 14, 15, 16, 17, 18, 19, 11, 12, 13, 14, 15, 16, 17, 18, 19, 20, 12, 13, 14, 15, 16, 17, 18, 19, 20, 21, 13, 14, 15, 16, 17, 18, 19, 20, 21, 22, 14, 15, 16, 17, 18, 19, 20, 21, 22, 23, 15, 16, 17, 18, 19, 20, 21, 22, 23, 24, 16, 17, 18, 19, 20, 21, 22, 23, 24, 25, 17, 18, 19, 20, 21, 22, 23, 24, 25, 26, 18, 19, 20, 21, 22, 23, 24, 25, 26, 27, 1]\n"
     ]
    }
   ],
   "source": [
    "#39.\n",
    "# Calculate the sum of digits for numbers from 1 to 1000 using list comprehension\n",
    "sums = [sum(int(digit) for digit in str(num)) for num in range(1, 1001)]\n",
    "print(\"Sum of digits for numbers from 1 to 1000:\", sums)\n"
   ]
  },
  {
   "cell_type": "code",
   "execution_count": 29,
   "id": "700efacd",
   "metadata": {},
   "outputs": [
    {
     "name": "stdout",
     "output_type": "stream",
     "text": [
      "Prime palindromic numbers up to 1000: [2, 3, 5, 7, 11, 101, 131, 151, 181, 191, 313, 353, 373, 383, 727, 757, 787, 797, 919, 929]\n"
     ]
    }
   ],
   "source": [
    "#40.\n",
    "def is_prime(num):\n",
    "    if num <= 1:\n",
    "        return False\n",
    "    elif num <= 3:\n",
    "        return True\n",
    "    elif num % 2 == 0 or num % 3 == 0:\n",
    "        return False\n",
    "    i = 5\n",
    "    while i * i <= num:\n",
    "        if num % i == 0 or num % (i + 2) == 0:\n",
    "            return False\n",
    "        i += 6\n",
    "    return True\n",
    "\n",
    "# Generate a list of prime palindromic numbers using list comprehension\n",
    "prime_palindromic_numbers = [num for num in range(1, 1000) if is_prime(num) and str(num) == str(num)[::-1]]\n",
    "print(\"Prime palindromic numbers up to 1000:\", prime_palindromic_numbers)\n"
   ]
  },
  {
   "cell_type": "code",
   "execution_count": null,
   "id": "5e255e6c",
   "metadata": {},
   "outputs": [],
   "source": []
  }
 ],
 "metadata": {
  "kernelspec": {
   "display_name": "Python 3 (ipykernel)",
   "language": "python",
   "name": "python3"
  },
  "language_info": {
   "codemirror_mode": {
    "name": "ipython",
    "version": 3
   },
   "file_extension": ".py",
   "mimetype": "text/x-python",
   "name": "python",
   "nbconvert_exporter": "python",
   "pygments_lexer": "ipython3",
   "version": "3.9.12"
  }
 },
 "nbformat": 4,
 "nbformat_minor": 5
}
