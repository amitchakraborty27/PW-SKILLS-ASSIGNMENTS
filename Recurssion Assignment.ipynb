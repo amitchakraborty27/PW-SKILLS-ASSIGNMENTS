{
  "nbformat": 4,
  "nbformat_minor": 0,
  "metadata": {
    "colab": {
      "provenance": []
    },
    "kernelspec": {
      "name": "python3",
      "display_name": "Python 3"
    },
    "language_info": {
      "name": "python"
    }
  },
  "cells": [
    {
      "cell_type": "code",
      "execution_count": 1,
      "metadata": {
        "colab": {
          "base_uri": "https://localhost:8080/"
        },
        "id": "ojAUpJYPAGG2",
        "outputId": "80cc254b-3fa5-41d7-b267-69d31c5e6e7a"
      },
      "outputs": [
        {
          "output_type": "stream",
          "name": "stdout",
          "text": [
            "Move disk 1 from A to C\n",
            "Move disk 2 from A to B\n",
            "Move disk 1 from C to B\n",
            "Move disk 3 from A to C\n",
            "Move disk 1 from B to A\n",
            "Move disk 2 from B to C\n",
            "Move disk 1 from A to C\n"
          ]
        }
      ],
      "source": [
        "#Answer 1:\n",
        "\n",
        "def tower_of_hanoi(n, source_rod, target_rod, auxiliary_rod):\n",
        "    if n == 1:\n",
        "        print(f\"Move disk 1 from {source_rod} to {target_rod}\")\n",
        "        return\n",
        "    tower_of_hanoi(n - 1, source_rod, auxiliary_rod, target_rod)\n",
        "    print(f\"Move disk {n} from {source_rod} to {target_rod}\")\n",
        "    tower_of_hanoi(n - 1, auxiliary_rod, target_rod, source_rod)\n",
        "\n",
        "\n",
        "num_disks = 3\n",
        "tower_of_hanoi(num_disks, 'A', 'C', 'B')\n",
        "\n",
        "'''\n",
        "The recursion works as follows:\n",
        "1. Move `n-1` disks from the source rod to the auxiliary rod, using the target rod as the auxiliary.\n",
        "2. Move the remaining disk from the source rod to the target rod.\n",
        "3. Move the `n-1` disks from the auxiliary rod to the target rod, using the source rod as the auxiliary.\n",
        "\n",
        "so, T(n)=2*T(n−1)+1\n",
        "on solving this we get O(2^n) ie exponential time complexity.\n",
        "\n",
        "'''"
      ]
    },
    {
      "cell_type": "code",
      "source": [
        "#Answer 2:\n",
        "def min_distance(word1, word2):\n",
        "    def helper(i, j):\n",
        "        # Base cases\n",
        "        if i == len(word1):\n",
        "            return len(word2) - j  # Insert remaining characters from word2\n",
        "        if j == len(word2):\n",
        "            return len(word1) - i  # Delete remaining characters from word1\n",
        "\n",
        "        # Recursive cases\n",
        "        if word1[i] == word2[j]:\n",
        "            return helper(i + 1, j + 1)  # No operation needed\n",
        "        else:\n",
        "            # Choose the minimum of three possible operations\n",
        "            return 1 + min(\n",
        "                helper(i + 1, j),      # Deletion\n",
        "                helper(i, j + 1),      # Insertion\n",
        "                helper(i + 1, j + 1)   # Substitution\n",
        "            )\n",
        "\n",
        "    return helper(0, 0)\n",
        "\n",
        "\n",
        "word1 = input(\"Enter first word ->\")\n",
        "word2 = input(\"Enter Second word ->\")\n",
        "result = min_distance(word1, word2)\n",
        "print(result)\n"
      ],
      "metadata": {
        "colab": {
          "base_uri": "https://localhost:8080/"
        },
        "id": "2__3ETSNAI1s",
        "outputId": "8063c9e4-2f33-4caa-837f-8924015bf060"
      },
      "execution_count": 4,
      "outputs": [
        {
          "output_type": "stream",
          "name": "stdout",
          "text": [
            "Enter first word ->horse\n",
            "Enter Second word ->ros\n",
            "3\n"
          ]
        }
      ]
    },
    {
      "cell_type": "code",
      "source": [
        "#Answer 3:\n",
        "def find_max_recursive(lst):\n",
        "\n",
        "    if not lst:\n",
        "        return float('-inf')  # a very small value\n",
        "\n",
        "\n",
        "    rest_max = find_max_recursive(lst[1:])\n",
        "\n",
        "\n",
        "    return lst[0] if lst[0] > rest_max else rest_max\n",
        "\n",
        "\n",
        "my_list = [13, 1, -3, 22, 5]\n",
        "max_value = find_max_recursive(my_list)\n",
        "print(max_value)\n"
      ],
      "metadata": {
        "colab": {
          "base_uri": "https://localhost:8080/"
        },
        "id": "ggZtc_GlBJMm",
        "outputId": "2d22cc2e-01be-4c17-f051-7b2646423c12"
      },
      "execution_count": 12,
      "outputs": [
        {
          "output_type": "stream",
          "name": "stdout",
          "text": [
            "22\n"
          ]
        }
      ]
    },
    {
      "cell_type": "code",
      "source": [
        "#Answer 4:\n",
        "\n",
        "l=[92, 23, 15, -20, 10]\n",
        "\n",
        "def sum_of_list(l):\n",
        "  if len(l)==0:\n",
        "    return 0\n",
        "\n",
        "  sum=0\n",
        "  smallOutput=sum_of_list(l[1:])\n",
        "  return l[0]+smallOutput\n",
        "\n",
        "sum_of_list(l)"
      ],
      "metadata": {
        "colab": {
          "base_uri": "https://localhost:8080/"
        },
        "id": "tUu0pGtPB44F",
        "outputId": "9bf9aa05-6f90-4bd8-b503-c7a279d528eb"
      },
      "execution_count": 11,
      "outputs": [
        {
          "output_type": "execute_result",
          "data": {
            "text/plain": [
              "120"
            ]
          },
          "metadata": {},
          "execution_count": 11
        }
      ]
    },
    {
      "cell_type": "code",
      "source": [
        "#Answer 5:\n",
        "\n",
        "n=int(input(\"Enter the number:: \"))\n",
        "\n",
        "temp=n\n",
        "l=len(str(n))\n",
        "sum=0\n",
        "while temp:\n",
        "  digit=temp%10\n",
        "  sum+=digit**l\n",
        "  temp=temp//10\n",
        "\n",
        "if sum==n:\n",
        "  print(\"Armstrong Number\")\n",
        "else:\n",
        "  print(\"Not armstrong\")"
      ],
      "metadata": {
        "colab": {
          "base_uri": "https://localhost:8080/"
        },
        "id": "LEhEEWnGCzHx",
        "outputId": "5e361b04-010c-44e6-9d50-0b2fada79e32"
      },
      "execution_count": 18,
      "outputs": [
        {
          "output_type": "stream",
          "name": "stdout",
          "text": [
            "Enter the number:: 134\n",
            "Not armstrong\n"
          ]
        }
      ]
    },
    {
      "cell_type": "code",
      "source": [],
      "metadata": {
        "id": "C5qmDiYIEOWi"
      },
      "execution_count": null,
      "outputs": []
    }
  ]
}